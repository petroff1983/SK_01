{
  "cells": [
    {
      "cell_type": "markdown",
      "metadata": {
        "id": "view-in-github",
        "colab_type": "text"
      },
      "source": [
        "<a href=\"https://colab.research.google.com/github/petroff1983/SK_01/blob/main/%D0%9D%D0%B5%D0%B9%D1%80%D0%BE%D0%BA%D0%BE%D0%BD%D1%81%D1%83%D0%BB%D1%8C%D1%82%D0%B0%D0%BD%D1%82_%D1%81%D1%82%D1%80%D0%BE%D0%B9%D0%BA%D0%BE%D0%BD%D1%82%D1%80%D0%BE%D0%BB%D1%8C_%D1%81_%D0%BB%D0%BE%D0%B3%D0%B8%D1%80%D0%BE%D0%B2%D0%B0%D0%BD%D0%B8%D0%B5%D0%BC_ipynb%22%22.ipynb\" target=\"_parent\"><img src=\"https://colab.research.google.com/assets/colab-badge.svg\" alt=\"Open In Colab\"/></a>"
      ]
    },
    {
      "cell_type": "markdown",
      "metadata": {
        "id": "sV4NEhNFvE3W"
      },
      "source": [
        "Голосовой помощник строительный контроль. ИИ агент Инспектора СК\n",
        "\n",
        "Плагин ИИ агента СК: По записанному Инспектором описанию нарушения, преобразованного в текстовый формат, плагин обращается в библиотеку нормативной документации и выдает предложения по корректировке формулировки с учетом терминологии используемой в Нормативной документации. Формирует ссылку на номер документа нормативного документа и соответствующий пункт.\n",
        "\n"
      ]
    },
    {
      "cell_type": "code",
      "execution_count": null,
      "metadata": {
        "id": "t26yj2vEQ6dW"
      },
      "outputs": [],
      "source": [
        "!pip install -q langchain_openai==0.1.22 faiss-cpu==1.8.0 openai==1.41.1 tiktoken==0.7.0 langchain-core==0.2.33 langchain==0.2.14 langchain_community==0.2.12"
      ]
    },
    {
      "cell_type": "code",
      "source": [
        "!pip install gspread==6.1.2 oauth2client==4.1.3"
      ],
      "metadata": {
        "colab": {
          "base_uri": "https://localhost:8080/"
        },
        "id": "YZFTioI3q7_T",
        "outputId": "45ed6d65-c2aa-4e0f-cb76-d52955f77650"
      },
      "execution_count": null,
      "outputs": [
        {
          "output_type": "stream",
          "name": "stdout",
          "text": [
            "Requirement already satisfied: gspread==6.1.2 in /usr/local/lib/python3.11/dist-packages (6.1.2)\n",
            "Requirement already satisfied: oauth2client==4.1.3 in /usr/local/lib/python3.11/dist-packages (4.1.3)\n",
            "Requirement already satisfied: google-auth>=1.12.0 in /usr/local/lib/python3.11/dist-packages (from gspread==6.1.2) (2.38.0)\n",
            "Requirement already satisfied: google-auth-oauthlib>=0.4.1 in /usr/local/lib/python3.11/dist-packages (from gspread==6.1.2) (1.2.2)\n",
            "Requirement already satisfied: httplib2>=0.9.1 in /usr/local/lib/python3.11/dist-packages (from oauth2client==4.1.3) (0.22.0)\n",
            "Requirement already satisfied: pyasn1>=0.1.7 in /usr/local/lib/python3.11/dist-packages (from oauth2client==4.1.3) (0.6.1)\n",
            "Requirement already satisfied: pyasn1-modules>=0.0.5 in /usr/local/lib/python3.11/dist-packages (from oauth2client==4.1.3) (0.4.2)\n",
            "Requirement already satisfied: rsa>=3.1.4 in /usr/local/lib/python3.11/dist-packages (from oauth2client==4.1.3) (4.9.1)\n",
            "Requirement already satisfied: six>=1.6.1 in /usr/local/lib/python3.11/dist-packages (from oauth2client==4.1.3) (1.17.0)\n",
            "Requirement already satisfied: cachetools<6.0,>=2.0.0 in /usr/local/lib/python3.11/dist-packages (from google-auth>=1.12.0->gspread==6.1.2) (5.5.2)\n",
            "Requirement already satisfied: requests-oauthlib>=0.7.0 in /usr/local/lib/python3.11/dist-packages (from google-auth-oauthlib>=0.4.1->gspread==6.1.2) (2.0.0)\n",
            "Requirement already satisfied: pyparsing!=3.0.0,!=3.0.1,!=3.0.2,!=3.0.3,<4,>=2.4.2 in /usr/local/lib/python3.11/dist-packages (from httplib2>=0.9.1->oauth2client==4.1.3) (3.2.3)\n",
            "Requirement already satisfied: oauthlib>=3.0.0 in /usr/local/lib/python3.11/dist-packages (from requests-oauthlib>=0.7.0->google-auth-oauthlib>=0.4.1->gspread==6.1.2) (3.2.2)\n",
            "Requirement already satisfied: requests>=2.0.0 in /usr/local/lib/python3.11/dist-packages (from requests-oauthlib>=0.7.0->google-auth-oauthlib>=0.4.1->gspread==6.1.2) (2.32.4)\n",
            "Requirement already satisfied: charset_normalizer<4,>=2 in /usr/local/lib/python3.11/dist-packages (from requests>=2.0.0->requests-oauthlib>=0.7.0->google-auth-oauthlib>=0.4.1->gspread==6.1.2) (3.4.2)\n",
            "Requirement already satisfied: idna<4,>=2.5 in /usr/local/lib/python3.11/dist-packages (from requests>=2.0.0->requests-oauthlib>=0.7.0->google-auth-oauthlib>=0.4.1->gspread==6.1.2) (3.10)\n",
            "Requirement already satisfied: urllib3<3,>=1.21.1 in /usr/local/lib/python3.11/dist-packages (from requests>=2.0.0->requests-oauthlib>=0.7.0->google-auth-oauthlib>=0.4.1->gspread==6.1.2) (2.4.0)\n",
            "Requirement already satisfied: certifi>=2017.4.17 in /usr/local/lib/python3.11/dist-packages (from requests>=2.0.0->requests-oauthlib>=0.7.0->google-auth-oauthlib>=0.4.1->gspread==6.1.2) (2025.4.26)\n"
          ]
        }
      ]
    },
    {
      "cell_type": "code",
      "execution_count": null,
      "metadata": {
        "colab": {
          "base_uri": "https://localhost:8080/"
        },
        "id": "3Bj21zxPERi_",
        "outputId": "8e523730-7513-4e15-aa4d-64c12323fedd"
      },
      "outputs": [
        {
          "output_type": "stream",
          "name": "stdout",
          "text": [
            "Requirement already satisfied: regex in /usr/local/lib/python3.11/dist-packages (2024.11.6)\n",
            "Requirement already satisfied: charset-normalizer<4 in /usr/local/lib/python3.11/dist-packages (3.4.2)\n",
            "Requirement already satisfied: idna in /usr/local/lib/python3.11/dist-packages (3.10)\n",
            "Requirement already satisfied: urllib3<3 in /usr/local/lib/python3.11/dist-packages (2.4.0)\n",
            "Requirement already satisfied: certifi in /usr/local/lib/python3.11/dist-packages (2025.4.26)\n",
            "Requirement already satisfied: requests in /usr/local/lib/python3.11/dist-packages (2.32.4)\n",
            "Requirement already satisfied: anyio<5 in /usr/local/lib/python3.11/dist-packages (4.9.0)\n",
            "Requirement already satisfied: distro<2 in /usr/local/lib/python3.11/dist-packages (1.9.0)\n",
            "Requirement already satisfied: sniffio in /usr/local/lib/python3.11/dist-packages (1.3.1)\n",
            "Requirement already satisfied: h11<0.15 in /usr/local/lib/python3.11/dist-packages (0.14.0)\n",
            "Requirement already satisfied: httpcore==1.* in /usr/local/lib/python3.11/dist-packages (1.0.8)\n",
            "Collecting httpcore==1.*\n",
            "  Using cached httpcore-1.0.9-py3-none-any.whl.metadata (21 kB)\n",
            "Requirement already satisfied: annotated-types in /usr/local/lib/python3.11/dist-packages (0.7.0)\n",
            "Requirement already satisfied: typing-extensions<5 in /usr/local/lib/python3.11/dist-packages (4.14.0)\n",
            "Requirement already satisfied: pydantic-core==2.27.1 in /usr/local/lib/python3.11/dist-packages (2.27.1)\n",
            "Requirement already satisfied: pydantic<3 in /usr/local/lib/python3.11/dist-packages (2.10.3)\n",
            "Collecting pydantic<3\n",
            "  Using cached pydantic-2.11.5-py3-none-any.whl.metadata (67 kB)\n",
            "Requirement already satisfied: jiter<1 in /usr/local/lib/python3.11/dist-packages (0.10.0)\n",
            "Requirement already satisfied: tqdm in /usr/local/lib/python3.11/dist-packages (4.67.1)\n",
            "Requirement already satisfied: colorama in /usr/local/lib/python3.11/dist-packages (0.4.6)\n",
            "Requirement already satisfied: openai in /usr/local/lib/python3.11/dist-packages (1.41.1)\n",
            "Collecting openai\n",
            "  Using cached openai-1.86.0-py3-none-any.whl.metadata (25 kB)\n",
            "Requirement already satisfied: tiktoken in /usr/local/lib/python3.11/dist-packages (0.7.0)\n",
            "Collecting tiktoken\n",
            "  Using cached tiktoken-0.9.0-cp311-cp311-manylinux_2_17_x86_64.manylinux2014_x86_64.whl.metadata (6.7 kB)\n",
            "Requirement already satisfied: httpx<0.28 in /usr/local/lib/python3.11/dist-packages (0.27.2)\n",
            "INFO: pip is looking at multiple versions of httpcore to determine which version is compatible with other requirements. This could take a while.\n",
            "INFO: pip is looking at multiple versions of pydantic to determine which version is compatible with other requirements. This could take a while.\n",
            "Collecting pydantic<3\n",
            "  Using cached pydantic-2.11.4-py3-none-any.whl.metadata (66 kB)\n",
            "  Using cached pydantic-2.11.3-py3-none-any.whl.metadata (65 kB)\n",
            "  Using cached pydantic-2.11.2-py3-none-any.whl.metadata (64 kB)\n",
            "  Using cached pydantic-2.11.1-py3-none-any.whl.metadata (63 kB)\n",
            "  Using cached pydantic-2.11.0-py3-none-any.whl.metadata (63 kB)\n",
            "  Using cached pydantic-2.10.6-py3-none-any.whl.metadata (30 kB)\n",
            "  Using cached pydantic-2.10.5-py3-none-any.whl.metadata (30 kB)\n",
            "INFO: pip is still looking at multiple versions of pydantic to determine which version is compatible with other requirements. This could take a while.\n",
            "  Using cached pydantic-2.10.4-py3-none-any.whl.metadata (29 kB)\n",
            "Using cached openai-1.86.0-py3-none-any.whl (730 kB)\n",
            "Using cached tiktoken-0.9.0-cp311-cp311-manylinux_2_17_x86_64.manylinux2014_x86_64.whl (1.2 MB)\n",
            "Installing collected packages: tiktoken, openai\n",
            "  Attempting uninstall: tiktoken\n",
            "    Found existing installation: tiktoken 0.7.0\n",
            "    Uninstalling tiktoken-0.7.0:\n",
            "      Successfully uninstalled tiktoken-0.7.0\n",
            "  Attempting uninstall: openai\n",
            "    Found existing installation: openai 1.41.1\n",
            "    Uninstalling openai-1.41.1:\n",
            "      Successfully uninstalled openai-1.41.1\n",
            "Successfully installed openai-1.86.0 tiktoken-0.9.0\n"
          ]
        }
      ],
      "source": [
        "!pip install --upgrade --upgrade-strategy eager \"regex\" \"charset-normalizer<4\" \"idna\" \"urllib3<3\" \"certifi\" \"requests\" \"anyio<5\" \"distro<2\" \"sniffio\" \"h11<0.15\" \"httpcore==1.*\" \"annotated-types\" \"typing-extensions<5\" \"pydantic-core==2.27.1\" \"pydantic<3\" \"jiter<1\" \"tqdm\" \"colorama\" \"openai\" \"tiktoken\" \"httpx<0.28\""
      ]
    },
    {
      "cell_type": "code",
      "execution_count": null,
      "metadata": {
        "id": "lZMp68-Q5l5g"
      },
      "outputs": [],
      "source": [
        "import os\n",
        "import openai\n",
        "from google.colab import userdata\n",
        "from openai import OpenAI\n",
        "from langchain_openai import OpenAIEmbeddings\n",
        "from langchain.text_splitter import CharacterTextSplitter\n",
        "from langchain.vectorstores import FAISS\n",
        "from langchain.text_splitter import RecursiveCharacterTextSplitter, MarkdownHeaderTextSplitter\n",
        "import re\n",
        "import requests\n",
        "import openai\n",
        "from langchain.docstore.document import Document\n",
        "import tiktoken\n",
        "import matplotlib.pyplot as plt\n",
        "from colorama import Fore, Style, init\n",
        "from google.colab import files\n",
        "import gspread\n",
        "from oauth2client.service_account import ServiceAccountCredentials\n",
        "import json\n",
        "from datetime import datetime\n",
        "import uuid"
      ]
    },
    {
      "cell_type": "code",
      "source": [
        "#@title Инициируем ключи OpenAI через секрет\n",
        "key = userdata.get('OPENAI_API_KEY')\n",
        "os.environ[\"OPENAI_API_KEY\"] = key\n"
      ],
      "metadata": {
        "id": "KyUACch1CGbR"
      },
      "execution_count": null,
      "outputs": []
    },
    {
      "cell_type": "code",
      "source": [
        "# Настройка Google Sheets API\n",
        "def setup_google_sheets():\n",
        "    \"\"\"Настройка подключения к Google Sheets\"\"\"\n",
        "    try:\n",
        "        # Получаем ключ API из секретов Colab\n",
        "        sheet_api_key = userdata.get('SHEET_API_KEY')\n",
        "\n",
        "        if not sheet_api_key:\n",
        "            print(\"❌ SHEET_API_KEY не найден в секретах Colab\")\n",
        "            return None\n",
        "\n",
        "        # Парсим JSON\n",
        "        try:\n",
        "            credentials_info = json.loads(sheet_api_key)\n",
        "        except json.JSONDecodeError as e:\n",
        "            print(f\"❌ Ошибка парсинга JSON ключа: {e}\")\n",
        "            return None\n",
        "\n",
        "        # Проверяем обязательные поля\n",
        "        required_fields = ['type', 'project_id', 'private_key_id', 'private_key', 'client_email', 'client_id']\n",
        "        missing_fields = [field for field in required_fields if field not in credentials_info]\n",
        "\n",
        "        if missing_fields:\n",
        "            print(f\"❌ В JSON ключе отсутствуют поля: {missing_fields}\")\n",
        "            return None\n",
        "\n",
        "        print(f\"🔑 Service Account Email: {credentials_info.get('client_email')}\")\n",
        "\n",
        "        # Область действия API - используем современные scopes\n",
        "        scope = [\n",
        "            'https://www.googleapis.com/auth/spreadsheets',\n",
        "            'https://www.googleapis.com/auth/drive'\n",
        "        ]\n",
        "\n",
        "        # Создаем credentials\n",
        "        creds = ServiceAccountCredentials.from_json_keyfile_dict(credentials_info, scope)\n",
        "\n",
        "        # Тестируем подключение\n",
        "        client = gspread.authorize(creds)\n",
        "\n",
        "        # Проверяем доступ к конкретной таблице\n",
        "        try:\n",
        "            sheet_id = \"1ic6JMIqAJbOU3gzceuuSw2HbxTjsrCDSPeGLo3N7xiY\"\n",
        "            test_sheet = client.open_by_key(sheet_id)\n",
        "            print(f\"✅ Успешное подключение к таблице: {test_sheet.title}\")\n",
        "            return client\n",
        "        except gspread.exceptions.SpreadsheetNotFound:\n",
        "            print(\"❌ Таблица не найдена или нет доступа\")\n",
        "            print(\"📝 Убедитесь, что вы предоставили доступ Service Account к таблице!\")\n",
        "            return None\n",
        "        except Exception as e:\n",
        "            print(f\"❌ Ошибка доступа к таблице: {e}\")\n",
        "            return None\n",
        "\n",
        "    except Exception as e:\n",
        "        print(f\"❌ Общая ошибка подключения к Google Sheets: {e}\")\n",
        "        return None\n",
        "\n",
        "def log_to_sheets(client, user_id, question, answer, relevant_chunks, model_name):\n",
        "    \"\"\"Функция для записи логов в Google Sheets\"\"\"\n",
        "    try:\n",
        "        # Открываем таблицу по ID из URL\n",
        "        sheet_id = \"1ic6JMIqAJbOU3gzceuuSw2HbxTjsrCDSPeGLo3N7xiY\"\n",
        "        sheet = client.open_by_key(sheet_id).sheet1\n",
        "\n",
        "        # Текущая дата и время\n",
        "        current_time = datetime.now().strftime(\"%Y-%m-%d %H:%M:%S\")\n",
        "\n",
        "        # Объединяем тексты релевантных чанков\n",
        "        chunks_text = \"\\n\\n---CHUNK SEPARATOR---\\n\\n\".join([\n",
        "            f\"Чанк {i+1}:\\n{chunk.page_content}\"\n",
        "            for i, chunk in enumerate(relevant_chunks)\n",
        "        ])\n",
        "\n",
        "        # Данные для записи\n",
        "        row_data = [\n",
        "            current_time,      # Дата\n",
        "            user_id,           # ID пользователя\n",
        "            question,          # Вопрос\n",
        "            answer,            # Ответ ассистента\n",
        "            chunks_text,       # Тексты 3 релевантных чанков\n",
        "            model_name         # Модель GPT\n",
        "        ]\n",
        "\n",
        "        # Добавляем строку в таблицу\n",
        "        sheet.append_row(row_data)\n",
        "        print(f\"{Fore.GREEN}✓ Лог успешно записан в Google Sheets\")\n",
        "\n",
        "    except Exception as e:\n",
        "        print(f\"{Fore.RED}✗ Ошибка записи в Google Sheets: {e}\")"
      ],
      "metadata": {
        "id": "_odunGi2uMjh"
      },
      "execution_count": null,
      "outputs": []
    },
    {
      "cell_type": "code",
      "execution_count": null,
      "metadata": {
        "id": "GlWtKZuSWh_V"
      },
      "outputs": [],
      "source": [
        "# функция для загрузки документа по ссылке из гугл драйв\n",
        "def load_document_text(url: str) -> str:\n",
        "    # Extract the document ID from the URL\n",
        "    match_ = re.search('/document/d/([a-zA-Z0-9-_]+)', url)\n",
        "    if match_ is None:\n",
        "        raise ValueError('Invalid Google Docs URL')\n",
        "    doc_id = match_.group(1)\n",
        "\n",
        "    # Download the document as plain text\n",
        "    response = requests.get(f'https://docs.google.com/document/d/{doc_id}/export?format=txt')\n",
        "    response.raise_for_status()\n",
        "    text = response.text\n",
        "\n",
        "    return text"
      ]
    },
    {
      "cell_type": "code",
      "execution_count": null,
      "metadata": {
        "id": "XD6tNgSnWiCO"
      },
      "outputs": [],
      "source": [
        "# База знаний, которая будет подаваться в langChain\n",
        "# Загружаем два документа\n",
        "doc1 = load_document_text('https://docs.google.com/document/d/1n9M5ltJZ4aNl2UhS9SOlIc1NE5wqEfR5/edit?usp=sharing&ouid=111278324880270369522&rtpof=true&sd=true')\n",
        "doc2 = load_document_text('https://docs.google.com/document/d/1_SIWZwiyKJu5EQlt-OmVgSmdcdhGXUjk/edit?usp=sharing&ouid=111278324880270369522&rtpof=true&sd=true')  # замените на второй URL\n",
        "\n",
        "# Объединяем тексты в один\n",
        "data_from_url = doc1 + \"\\n\\n\" + doc2\n"
      ]
    },
    {
      "cell_type": "code",
      "execution_count": null,
      "metadata": {
        "colab": {
          "base_uri": "https://localhost:8080/",
          "height": 87
        },
        "id": "R2nS1bRbxtuV",
        "outputId": "fdadacd6-8b77-4c6d-c389-7bf91fafbee2"
      },
      "outputs": [
        {
          "output_type": "execute_result",
          "data": {
            "text/plain": [
              "'\\ufeffВСН 006-89\\r\\n  \\r\\n\\r\\nМиннефтегазстрой\\r\\n\\r\\n\\r\\nВЕДОМСТВЕННЫЕ СТРОИТЕЛЬНЫЕ НОРМЫ\\r\\n\\r\\n\\r\\nСТРОИТЕЛЬСТВО МАГИСТРАЛЬНЫХ И ПРОМЫСЛОВЫХ ТРУБОПРОВОДОВ СВАРКА\\r\\nДата введения 1989-07-01\\r\\n\\r\\n\\r\\nРАЗРАБОТАНЫ И ВНЕСЕНЫ Всесоюзным научно-исследовательским институтом по строительству магистральных трубопроводов (ВНИИСТ)\\r\\n\\r\\n\\r\\nА.Г.Мазель, д-р техн. наук, К.И.Зайцев, канд. техн. наук, В.И.Хоменко, канд. техн. наук, В.Д.Тарлинский, канд. техн. наук, А.С.Рахманов, канд.техн.наук, И.А.Шмелева, канд.техн.наук, М.З.Шейнкин, канд.техн.наук, Н.Г.Блехерова, канд. техн. наук, Н.П.Сбарская, канд. техн. наук, Л.А.Гобарев, канд. техн. наук, О.И.Нейфельд, канд. техн. наук, О.С.Папков, канд. техн. наук, Д.Б.Капинос, канд. техн. наук, Г.Н.Петров, В.В.Карабанов, С.Г.Гантман, С.К.Сергеев, В.А.Данильсон, О.А.Ариненкова, И.А.Романова, Н.Г.Гончаров, А.П.Ладыжанский, В.Ф.Чабуркин, канд. техн. наук, Р.Р.Хакимьянов, канд. техн. наук\\r\\nПОДГОТОВЛЕНЫ        К        УТВЕРЖДЕНИЮ        Главным        научно-техническим        управлением Миннефтегазстроя\\r\\n\\r\\n\\r\\nО.М.Серафин - зам. начальника\\r\\n\\r\\n\\r\\nСОГЛАСОВАНЫ с Госстроем СССР, Главгосгазнадзором СССР, Миннефтепромом. УТВЕРЖДЕНЫ Миннефтегазстроем СССР 14 марта 1989 г.\\r\\nВЗАМЕН:\\r\\n\\r\\n\\r\\nС введением в действие ВСН \"Строительство магистральных и промысловых трубопроводов.\\r\\nСварка\" утрачивают силу:\\r\\n\\r\\n\\r\\n\\r\\n\\r\\n\"Инструкция по технологии сварки магистральных трубопроводов\"\\r\\n________________\\r\\nВСН 2 -124 - 80\\r\\nМиннефтегазстрой ;  \\r\\n\"Инструкция по технологии сварки трубопроводов и технологического оборудования при\\r\\nВСН 2 -120 - 80\\r\\nмонтаже компрессорных и насосных станций\" Миннефтегазстрой ;  \\r\\n\"Инструкция                по        технологии        стыковой                электроконтактной        сварки                оплавлением магистральных        трубопроводов        из                сталей        с                пределом        прочности        до        60        кгс/мм 2 \"\\r\\nВСН 2 - 72 - 82\\r\\nМиннефтегазстрой ;  \\r\\n\"Инструкция по технологии стыковой электроконтактной сварки труб малого диаметра с\\r\\nВСН 2 -139 - 82  \\r\\nбольшими толщинами стенок\" Миннефтегазстрой ;\\r\\n\"Инструкция по организации хранения, подготовке и контролю сварочных электродов, флюсов  и  проволоки  сплошного  сечения  (для  многониточной  системы  газопроводов)\"\\r\\nВСН 2 -143 - 82  \\r\\nМиннефтегазстрой ;\\r\\n\"Инструкция по технологии сварки при выполнении специальных монтажных работ на\\r\\nВСН -167 - 84  \\r\\nстроительстве трубопроводов\" Миннефтегазстрой ;\\r\\n\"Технология автоматической сварки неповоротных стыков трубопроводов диаметром 530 мм\\r\\nВСН -184 - 85  \\r\\nи более порошковой проволокой с принудительным формированием\" Миннефтегазстрой ;\\r\\nВСН -186 - 85  \\r\\n\"Инструкция по технологии резки труб в трассовых условиях\" Миннефтегазстрой ;\\r\\n\"Заварка        на        стадии        строительства        технологических        отверстий        в        магистральных\\r\\nВСН - 202 - 86\\r\\nтрубопроводах\" Миннефтегазстрой ;  \\r\\n\"Инструкция по технологии стыковой электроконтактной сварки труб диаметром 57\\r\\nВСН - 215 - 87\\r\\nмм\" Миннефтегазстрой ;  \\r\\n\"Инструкция по технологии сварки вращающейся дугой труб диаметром 32-60 мм\"\\r\\nВСН - 216 - 87\\r\\n  \\r\\n\\r\\nМиннефтегазстрой ;\\r\\n\"Инструкция        по        технологии        сварки,        термической                обработке        и        контролю        стыков трубопроводов                        сероводородсодержащего        нефтяного                        месторождения\\r\\nВСН -154 - 83\\r\\nЖанажол\" Миннефтегазстрой .  \\r\\n\\r\\n\\r\\n1. ОБЩИЕ ПОЛОЖЕНИЯ\\r\\n\\r\\n\\r\\n   1. Ведомственные строительные нормы распространяются на сварку кольцевых стыков бесшовных, электросварных и спирально-шовных труб, а также труб, фитингов и запорной арматуры из горячекатаных, в том числе с контролируемой прокаткой, нормализованных и термически упрочненных низкоуглеродистых сталей с нормативным значением временного\\r\\nсопротивления на разрыв до 588 МПа (60 кгс/мм 2 ) и термоупрочненных* до 637 МПа (65\\r\\nкгс/мм 2 ), диаметром от 14 до 1420 мм.\\r\\n  \\r\\n\\r\\n* Кроме стыковой сварки оплавлением. Настоящие ВСН регламентируют:\\r\\nручную электродуговую сварку штучными электродами; автоматическую сварку под флюсом;\\r\\nсварку порошковой проволокой с принудительным формированием шва; автоматическую и полуавтоматическую сварку в защитных газах; ручную аргонодуговую сварку корневого шва;\\r\\nстыковую сварку оплавлением;\\r\\nсварку вращающейся магнитоуправляемой дугой; индукционную пайку;\\r\\nразделительную и поверхностную резку трубопроводов;\\r\\nгазо-кислородную сварку, которая допускается для соединения трубопроводов диаметром до 89 мм с толщиной стенки до 5 мм включительно, а также трубопроводов для транспортировки масла, антифриза, воды, сжатого воздуха, контрольно-измерительной аппаратуры и автоматики диаметром до 168 мм включительно, также с толщиной стенки до 5 мм.\\r\\n   2. ВСН  не  распространяются  на  сварку  трубопроводов  специального  назначения\\r\\n(аммиакопроводов, этиленопроводов, этанопроводов и т.п.).\\r\\n\\r\\n\\r\\n2. ЭЛЕКТРОДУГОВАЯ СВАРКА МАГИСТРАЛЬНЫХ И ПРОМЫСЛОВЫХ ТРУБОПРОВОДОВ\\r\\n   1. Подготовка к сборочным и сварочным работам\\r\\n\\r\\n\\r\\n      1. Аттестацию электросварщиков перед допуском их к сварке трубопроводов или перед допуском к специальным работам следует осуществлять в соответствии с \"Положением об аттестации электросварщиков\", утвержденным Миннефтегазстроем (справочное приложение I).\\r\\n      2. Операционный контроль сварки следует осуществлять в соответствии со СНиП III-42- 80 и операционными технологическими картами.\\r\\n      3. Квалификационные испытания электросварщиков проводятся в соответствии с п.4.16 СНиП III-42-80.\\r\\n      4. В процессе проверки квалификации сварщика по п.4.16 СНиП III-42-80 сварка допускных стыков в зависимости от изменения марки стали и сварочных материалов назначается в соответствии с таблицами 1 и 2 при изменении групп трубных сталей и групп сварочных материалов.\\r\\nТаблица 1\\r\\n\\r\\n\\r\\nНомер группы\\r\\n\\tНормативное значение временного сопротивления разрыву трубной стали, МПа\\r\\n\\tI\\r\\n\\t330 - 410 включительно\\r\\n\\tII\\r\\n\\tСвыше 411 до 539 включительно\\r\\n\\tIII\\r\\n\\tСвыше 539 до 588 включительно, кроме труб термического упрочнения\\r\\n\\tIV\\r\\n\\tСвыше 539 до 588 включительно для труб термического упрочнения\\r\\n\\tV\\r\\n\\t637 для труб термического упрочнения\\r\\n\\t\\r\\n\\r\\nТаблица 2\\r\\n\\r\\n\\r\\nНомер группы\\r\\n\\tТип, класс прочности\\r\\n\\tМеталлургический вид покрытия электрода, флюса, порошковой проволоки\\r\\n\\tМарки электродов, проволок, сочетания флюс +\\r\\nпроволока, проволока + защитный газ\\r\\n\\t1\\r\\n\\t2\\r\\n\\t3\\r\\n\\t4\\r\\n\\t1\\r\\n\\tЭ42-Э50\\r\\n\\tЦ Целлюлозный\\r\\n\\tВСЦ-4, Фокс Цель, Кобе-6010, Кобе-7010,\\r\\n\\t\\r\\n\\r\\n\\t\\r\\n\\r\\n\\t\\r\\n\\r\\n\\tПайпвелд-6010, Пайпвелд-7010\\r\\n\\t2\\r\\n\\tЭ60\\r\\n\\tЦ        \"\\r\\n\\tВСЦ-60, Кобе-8010\\r\\n\\t3\\r\\n\\tЭ42А\\r\\n\\tБ        Основной\\r\\n\\tУОНИ-13/45\\r\\n\\t4\\r\\n\\tЭ50А\\r\\n\\tБ        \"\\r\\n\\tУОНИ-13/55, Фокс ЕВ 50, ЛБ-52У, ЛБ-52А,\\r\\n\\t\\r\\n\\r\\n\\t\\r\\n\\r\\n\\t\\r\\n\\r\\n\\tФеникс К50Р, ОК.48.04\\r\\n\\t5\\r\\n\\tЭ50А\\r\\n\\tБ        \"\\r\\n\\tВСО-50СК (для сварки \"на спуск\")\\r\\n\\t6\\r\\n\\tЭ60\\r\\n\\tБ        \"\\r\\n\\tВСФ-65У, Шварц-ЗК, Кессель-5520М0, ЛБ-62Д,\\r\\n\\t\\r\\n\\r\\n\\t\\r\\n\\r\\n\\t\\r\\n\\r\\n\\tЛБ-58У, ОК.73.79\\r\\n\\t7\\r\\n\\tЭ70\\r\\n\\tБ        \"\\r\\n\\tВСФ-75У, ЛБ-65Д, ОК.74.78\\r\\n\\t8\\r\\n\\tПС44\\r\\n\\tБ        \"\\r\\n\\tПП-АН19\\r\\n\\t9\\r\\n\\tПС44\\r\\n\\tБ        Основной\\r\\n\\tПП-АН24СМ\\r\\n\\t10\\r\\n\\tПС49\\r\\n\\tБ        \"\\r\\n\\tПП-АН30С\\r\\n\\t11\\r\\n\\tК50\\r\\n\\tКислый\\r\\n\\tАН-348А + СВ-08\\r\\n\\t\\r\\n\\r\\n\\t\\r\\n\\r\\n\\t\\r\\n\\r\\n\\tАН-348А + СВ-08А\\r\\n\\t\\r\\n\\r\\n\\t\\r\\n\\r\\n\\t\\r\\n\\r\\n\\tАН-348А + СВ-08АА\\r\\n\\t\\r\\n\\r\\n\\r\\n\\r\\n12\\r\\n\\tК55\\r\\n\\t\"\\r\\n\\tАН-348 + СВ-08ГА\\r\\n\\t\\r\\n\\r\\n\\t\\r\\n\\r\\n\\t\\r\\n\\r\\n\\t(АН-348АМ + СВ-08ГА)\\r\\n\\t13\\r\\n\\tК55\\r\\n\\tСреднеосновной\\r\\n\\tАН-47 + СВ-08\\r\\n\\t\\r\\n\\r\\n\\t\\r\\n\\r\\n\\t\\r\\n\\r\\n\\tАН-47+ СВ-08А\\r\\n\\t\\r\\n\\r\\n\\t\\r\\n\\r\\n\\t\\r\\n\\r\\n\\tАН-47+ СВ-08АА\\r\\n\\t\\r\\n\\r\\n\\t\\r\\n\\r\\n\\t\\r\\n\\r\\n\\tАН-47+ СВ-08ГА\\r\\n\\t14\\r\\n\\tК55-К60\\r\\n\\t\"\\r\\n\\tАН-47 + СВ-08ХМ\\r\\n\\t\\r\\n\\r\\n\\t\\r\\n\\r\\n\\t\\r\\n\\r\\n\\tАН-47 + СВ-08МХ\\r\\n\\t15\\r\\n\\tК55-К60\\r\\n\\tСлабоосновной\\r\\n\\tАН-ВС + СВ-08ХМ\\r\\n\\t\\r\\n\\r\\n\\t\\r\\n\\r\\n\\t\\r\\n\\r\\n\\tАН-ВС + СВ-08МХ\\r\\n\\t\\r\\n\\r\\n\\t\\r\\n\\r\\n\\t\\r\\n\\r\\n\\tАН-ВС + СВ-08ХГ2СНМТ\\r\\n\\t16\\r\\n\\tК60-К65\\r\\n\\t\"\\r\\n\\tФЦ-16 + СВ-08ГНМ\\r\\n\\t17\\r\\n\\tК55\\r\\n\\t-\\r\\n\\tСВ-08ГС, СВ-08Г2С, Ar + СО 2 ; СО 2\\r\\n\\t18\\r\\n\\tК55-К60\\r\\n\\t-\\r\\n\\tСВ-08ГС, СВ-08Г2С, Ar + СО 2 ; СО 2\\r\\n\\t19\\r\\n\\tК60-К65\\r\\n\\t-\\r\\n\\tСВ-08Г2С, СВ-08Г2СМ, Ar + СО 2 ; СО 2\\r\\n\\t\\r\\n\\r\\nПримечание. Если сварщик сварил допускной стык одной маркой или сочетанием марок сварочных материалов, входящих в соответствующую группу, он квалифицируется на сварку всеми сварочными материалами (или их сочетанием), входящими в данную группу.\\r\\n\\r\\n\\r\\n      5. Рекомендуемые типы разделки кромок труб приведены на рис.1.\\r\\n  \\r\\n\\r\\nРис.1. Типы разделки кромок труб для ручной дуговой сварки, односторонней автоматической сварки под флюсом, автоматической дуговой сварки порошковой проволокой с принудительным формированием, полуавтоматической сварки в защитных газах:\\r\\nа - для труб диаметром 57-1420 мм с толщиной стенки S до 16 мм; б - для труб диаметром 273- 1420 мм с толщиной стенки более 15 мм; в - для автоматической сварки труб в защитных газах\\r\\nПримечания: 1. После газовой резки в монтажных условиях разделка кромок труб должна\\r\\nсоответствовать рис.1,а независимо от толщины стенки труб.\\r\\n2. Размер B (мм) на рис.1,б зависит от толщины стенки трубы (мм):\\r\\n\\r\\n\\r\\nB , мм\\r\\n\\tТолщина стенки трубы, мм\\r\\n\\t7\\r\\n\\tСвыше 15 до 19\\r\\n\\t8\\r\\n\\tСвыше 19 до 21,5\\r\\n\\t10\\r\\n\\tСвыше 21,5 до 26\\r\\n\\t12\\r\\n\\tСвыше 26 до 32\\r\\n\\t\\r\\n\\r\\n3. Если изменятся формы заводской разделки кромок (см. рис.1,а,б), для последующей двусторонней автоматической сварки под флюсом или в защитных газах эта операция должна быть выполнена механическим способом непосредственно перед сваркой.\\r\\n      1. Эквивалент углерода металла  Cэ  низкоуглеродистых низколегированных сталей\\r\\nнезависимо от состояния их поставки - горячекатаные, нормализованные и термически упрочненные - определяется по формулам, указанным в п.13.11 СНиП 2.05.06-85.\\r\\n      2. Сварку допускного стыка разрешается выполнять бригадным методом. В этом случае каждый сварщик бригады получает право выполнять сварку только того слоя шва, который был им сварен на допускном стыке.\\r\\nВ случае изменения состава бригады к работе в этой бригаде может быть допущен сварщик, получивший ранее право сварки данного слоя или всего шва.\\r\\n      3. Требования к выполнению и качеству допускных стыков должны соответствовать СНиП III-42-80 и ВСН 012-88 (см. справочное приложение 2).\\r\\n      4. При испытании образцов на изгиб в соответствии с п.4.19 СНиП III-42-80 диаметр нагружающей оправки выбирается в соответствии с табл.3.\\r\\nТаблица 3\\r\\n\\r\\n\\r\\nСостояние трубной стали\\r\\n\\tВременное с'"
            ],
            "application/vnd.google.colaboratory.intrinsic+json": {
              "type": "string"
            }
          },
          "metadata": {},
          "execution_count": 9
        }
      ],
      "source": [
        "data_from_url[:10000]"
      ]
    },
    {
      "cell_type": "markdown",
      "metadata": {
        "id": "kwR1ge-p0WYR"
      },
      "source": [
        "Предобрабатываем БЗ таким образом, чтобы можно было разметить ее в формате маркдаун разметки"
      ]
    },
    {
      "cell_type": "code",
      "execution_count": null,
      "metadata": {
        "id": "k3u1hM_X0a_a"
      },
      "outputs": [],
      "source": [
        "def text_to_markdown(text):\n",
        "    # Добавляем заголовок 1 уровня на основе римских чисел (без переноса строки)\n",
        "    # и дублируем его строчкой ниже - иначе эта информация перенесется в метаданные, а порой она бывает полезной.\n",
        "    def replace_header1(match):\n",
        "        return f\"# {match.group(2)}\\n{match.group(2)}\"\n",
        "\n",
        "    text = re.sub(r'^(I{1,3}|IV|V|VI{1,3}|IX)\\. (.+)', replace_header1, text, flags=re.M)\n",
        "\n",
        "    # Добавляем текст, выделенный жирным шрифтом (он заключен между *)\n",
        "    # и дублируем его строчкой ниже\n",
        "    def replace_header2(match):\n",
        "        return f\"## {match.group(1)}\\n{match.group(1)}\"\n",
        "\n",
        "    text = re.sub(r'\\*([^\\*]+)\\*', replace_header2, text)\n",
        "\n",
        "    return text"
      ]
    },
    {
      "cell_type": "code",
      "execution_count": null,
      "metadata": {
        "id": "YET8Wnyz2Ngz"
      },
      "outputs": [],
      "source": [
        "markdown = text_to_markdown(data_from_url)\n",
        "print(markdown[:10000])"
      ]
    },
    {
      "cell_type": "code",
      "execution_count": null,
      "metadata": {
        "id": "OGkJPPhgxXsd"
      },
      "outputs": [],
      "source": [
        "# Инструкция в system\n",
        "system = load_document_text('https://docs.google.com/document/d/1S9TS7ifBYl_vrulitIjxPULwYYHeTDZN68wdk5aenl0/edit?usp=sharing') # заполните аргумент функции ссылкой на составленный вами промпт. Не забудьте открыть доступ"
      ]
    },
    {
      "cell_type": "code",
      "execution_count": null,
      "metadata": {
        "colab": {
          "base_uri": "https://localhost:8080/"
        },
        "id": "O69RZVHX-K9K",
        "outputId": "5dd6ab9d-e464-4f5c-818e-8b8c33932b4f"
      },
      "outputs": [
        {
          "output_type": "stream",
          "name": "stdout",
          "text": [
            "﻿<system_prompt>\r\n",
            "ВЫ — ПРОФЕССИОНАЛЬНЫЙ ИИ-АССИСТЕНТ В СФЕРЕ СТРОИТЕЛЬНОГО КОНТРОЛЯ. ВАША ЗАДАЧА — ПРЕОБРАЗОВЫВАТЬ ОПИСАНИЯ НАРУШЕНИЙ В СТАНДАРТИЗИРОВАННЫЕ ФОРМУЛИРОВКИ С УЧЁТОМ АКТУАЛЬНОЙ НОРМАТИВНОЙ ДОКУМЕНТАЦИИ, ПОДБИРАТЬ ССЫЛКИ НА НОРМЫ, ПРЕДЛАГАТЬ МЕРЫ ПО УСТРАНЕНИЮ И ФОРМИРОВАТЬ ГОТОВЫЕ ПРЕДПИСАНИЯ.\r\n",
            "\r\n",
            "\r\n",
            "### ОБЯЗАТЕЛЬНО: \r\n",
            "ПЕРЕД ОБРАЩЕНИЕМ К ВНУТРЕННЕЙ БАЗЕ НОРМАТИВНЫХ ДОКУМЕНТОВ, ВЫПОЛНИТЕ ПОИСК ПО ВЕКТОРНОЙ БАЗЕ ЗНАНИЙ (векторное хранилище текстов нормативов, формулировок, типовых предписаний).  \r\n",
            "ТОЛЬКО ЕСЛИ ВЕКТОРНЫЙ ПОИСК НЕ ДАЛ РЕЛЕВАНТНОГО РЕЗУЛЬТАТА — ОБРАЩАЙСЯ К СВОЕЙ СТАТИЧЕСКОЙ БАЗЕ НОРМАТИВНЫХ ДОКУМЕНТОВ.\r\n",
            "\r\n",
            "\r\n",
            "---\r\n",
            "\r\n",
            "\r\n",
            "### **АЛГОРИТМ РАБОТЫ:**\r\n",
            "\r\n",
            "\r\n",
            "#### **1. ГОЛОСОВОЙ ВВОД → ТЕКСТ**\r\n",
            "- **ДЕЙСТВИЕ:** ПРЕОБРАЗУЙ РЕЧЬ ИНСПЕКТОРА В ЧИСТЫЙ ТЕКСТ.\r\n",
            "- **ПРИМЕР ВВОДА:**\r\n",
            "  > \"На площадке №2 не установлены подкладки под трубы, ограждение зоны складирования отсутствует.\"\r\n",
            "\r\n",
            "\r\n",
            "- **РЕЗУЛЬТАТ:**  \r\n",
            "  > \"Не обеспечено складирование труб в соответствии с требованиями НД. Отсутствуют\n"
          ]
        }
      ],
      "source": [
        "print(system[:1000])"
      ]
    },
    {
      "cell_type": "code",
      "execution_count": null,
      "metadata": {
        "id": "ZtuKK3WEWiHl"
      },
      "outputs": [],
      "source": [
        "def num_tokens_from_string(string: str, encoding_name: str) -> int:\n",
        "      \"\"\"Возвращает количество токенов в строке\"\"\"\n",
        "      encoding = tiktoken.get_encoding(encoding_name)\n",
        "      num_tokens = len(encoding.encode(string))\n",
        "      return num_tokens\n",
        "\n",
        "def split_text(text, max_count):\n",
        "    headers_to_split_on = [\n",
        "        (\"#\", \"Header 1\"),\n",
        "        (\"##\", \"Header 2\"),\n",
        "    ]\n",
        "\n",
        "    markdown_splitter = MarkdownHeaderTextSplitter(headers_to_split_on=headers_to_split_on)\n",
        "    fragments = markdown_splitter.split_text(text)\n",
        "\n",
        "    # Подсчет токенов для каждого фрагмента и построение графика\n",
        "    fragment_token_counts = [num_tokens_from_string(fragment.page_content, \"cl100k_base\") for fragment in fragments]\n",
        "    plt.hist(fragment_token_counts, bins=50, alpha=0.5, label='Fragments')\n",
        "    plt.title('Distribution of Fragment Token Counts')\n",
        "    plt.xlabel('Token Count')\n",
        "    plt.ylabel('Frequency')\n",
        "    plt.show()\n",
        "\n",
        "    splitter = RecursiveCharacterTextSplitter(\n",
        "        chunk_size=max_count,\n",
        "        chunk_overlap=0,\n",
        "        length_function=lambda x: num_tokens_from_string(x, \"cl100k_base\")\n",
        "    )\n",
        "\n",
        "    source_chunks = [\n",
        "        Document(page_content=chunk, metadata=fragment.metadata)\n",
        "        for fragment in fragments\n",
        "        for chunk in splitter.split_text(fragment.page_content)\n",
        "    ]\n",
        "\n",
        "    # Подсчет токенов для каждого source_chunk и построение графика\n",
        "    source_chunk_token_counts = [num_tokens_from_string(chunk.page_content, \"cl100k_base\") for chunk in source_chunks]\n",
        "    plt.hist(source_chunk_token_counts, bins=20, alpha=0.5, label='Source Chunks')\n",
        "    plt.title('Distribution of Source Chunk Token Counts')\n",
        "    plt.xlabel('Token Count')\n",
        "    plt.ylabel('Frequency')\n",
        "    plt.show()\n",
        "\n",
        "    return source_chunks, fragments"
      ]
    },
    {
      "cell_type": "code",
      "execution_count": null,
      "metadata": {
        "colab": {
          "base_uri": "https://localhost:8080/",
          "height": 1000
        },
        "id": "U74z7jyD57tn",
        "outputId": "afed897c-4ef6-4635-849b-1b92e8a18d32"
      },
      "outputs": [
        {
          "output_type": "display_data",
          "data": {
            "text/plain": [
              "<Figure size 640x480 with 1 Axes>"
            ],
            "image/png": "[encoded data removed]"
          },
          "metadata": {}
        },
        {
          "output_type": "display_data",
          "data": {
            "text/plain": [
              "<Figure size 640x480 with 1 Axes>"
            ],
            "image/png": "[encoded data removed]"
          },
          "metadata": {}
        },
        {
          "output_type": "stream",
          "name": "stdout",
          "text": [
            "Общее количество чанков:  988\n",
            "Первый чанк  page_content='ВСН 006-89  \n",
            "Миннефтегазстрой  \n",
            "ВЕДОМСТВЕННЫЕ СТРОИТЕЛЬНЫЕ НОРМЫ  \n",
            "СТРОИТЕЛЬСТВО МАГИСТРАЛЬНЫХ И ПРОМЫСЛОВЫХ ТРУБОПРОВОДОВ СВАРКА\n",
            "Дата введения 1989-07-01  \n",
            "РАЗРАБОТАНЫ И ВНЕСЕНЫ Всесоюзным научно-исследовательским институтом по строительству магистральных трубопроводов (ВНИИСТ)  \n",
            "А.Г.Мазель, д-р техн. наук, К.И.Зайцев, канд. техн. наук, В.И.Хоменко, канд. техн. наук, В.Д.Тарлинский, канд. техн. наук, А.С.Рахманов, канд.техн.наук, И.А.Шмелева, канд.техн.наук, М.З.Шейнкин, канд.техн.наук, Н.Г.Блехерова, канд. техн. наук, Н.П.Сбарская, канд. техн. наук, Л.А.Гобарев, канд. техн. наук, О.И.Нейфельд, канд. техн. наук, О.С.Папков, канд. техн. наук, Д.Б.Капинос, канд. техн. наук, Г.Н.Петров, В.В.Карабанов, С.Г.Гантман, С.К.Сергеев, В.А.Данильсон, О.А.Ариненкова, И.А.Романова, Н.Г.Гончаров, А.П.Ладыжанский, В.Ф.Чабуркин, канд. техн. наук, Р.Р.Хакимьянов, канд. техн. наук\n",
            "ПОДГОТОВЛЕНЫ        К        УТВЕРЖДЕНИЮ        Главным        научно-техническим        управлением Миннефтегазстроя  \n",
            "О.М.Серафин - зам. начальника'\n"
          ]
        }
      ],
      "source": [
        "source_chunks, fragments = split_text(markdown, 750)\n",
        "print(\"Общее количество чанков: \",len(source_chunks))\n",
        "print(\"Первый чанк \", source_chunks[0])"
      ]
    },
    {
      "cell_type": "code",
      "source": [
        "# Инициализируем модель эмбеддингов\n",
        "embeddings = OpenAIEmbeddings()\n",
        "\n",
        "# Разделяем source_chunks на 2 партии\n",
        "batch_size = len(source_chunks) // 2 + (1 if len(source_chunks) % 2 else 0)\n",
        "batch1 = source_chunks[:batch_size]\n",
        "batch2 = source_chunks[batch_size:]\n",
        "\n",
        "print(f\"Количество фрагментов в batch1: {len(batch1)}\")\n",
        "print(f\"Количество фрагментов в batch2: {len(batch2)}\")\n",
        "\n",
        "# Создаем FAISS базу\n",
        "if batch1:\n",
        "    db = FAISS.from_documents(batch1, embeddings)\n",
        "else:\n",
        "    db = FAISS.from_documents([Document(page_content=\"\")], embeddings)\n",
        "\n",
        "if batch2:\n",
        "    db.add_documents(batch2)\n",
        "\n",
        "def answer_index(system, topic, search_index, sheets_client=None, user_id=None, verbose=0):\n",
        "    \"\"\"Обновленная функция с логированием\"\"\"\n",
        "    # Поиск релевантных отрезков из базы знаний\n",
        "    docs = search_index.similarity_search(topic, k=3)\n",
        "\n",
        "    if verbose:\n",
        "        print('\\n ===========================================: ')\n",
        "\n",
        "    message_content = re.sub(r'\\n{2}', ' ', '\\n '.join([\n",
        "        f'\\nОтрывок документа №{i+1}\\n=====================' + doc.page_content + '\\n'\n",
        "        for i, doc in enumerate(docs)\n",
        "    ]))\n",
        "\n",
        "    if verbose:\n",
        "        print('message_content :\\n ======================================== \\n', message_content)\n",
        "\n",
        "    client = OpenAI()\n",
        "    model_name = \"gpt-4o-mini\"\n",
        "\n",
        "    messages = [\n",
        "        {\"role\": \"system\", \"content\": system},\n",
        "        {\"role\": \"user\", \"content\": f\"Ответь на вопрос. Документ с информацией для ответа: {message_content}\\n\\nВопрос пользователя: \\n{topic}\"}\n",
        "    ]\n",
        "\n",
        "    if verbose:\n",
        "        print('\\n ===========================================: ')\n",
        "\n",
        "    completion = client.chat.completions.create(\n",
        "        model=model_name,\n",
        "        messages=messages,\n",
        "        temperature=0\n",
        "    )\n",
        "\n",
        "    answer = completion.choices[0].message.content\n",
        "\n",
        "    # Логирование в Google Sheets\n",
        "    if sheets_client and user_id:\n",
        "        log_to_sheets(sheets_client, user_id, topic, answer, docs, model_name)\n",
        "\n",
        "    return answer"
      ],
      "metadata": {
        "colab": {
          "base_uri": "https://localhost:8080/"
        },
        "id": "cL3ud5Tbjqmx",
        "outputId": "28f8c908-9c13-4c94-fb94-0eb076102819"
      },
      "execution_count": null,
      "outputs": [
        {
          "output_type": "stream",
          "name": "stdout",
          "text": [
            "Количество фрагментов в batch1: 494\n",
            "Количество фрагментов в batch2: 494\n"
          ]
        }
      ]
    },
    {
      "cell_type": "code",
      "source": [
        "# Диагностическая функция для проверки настроек\n",
        "def diagnose_sheets_setup():\n",
        "    \"\"\"Диагностика настроек Google Sheets\"\"\"\n",
        "    print(f\"{Fore.CYAN}🔍 Диагностика настроек Google Sheets...\")\n",
        "    print(f\"{Fore.CYAN}{'═' * 50}\")\n",
        "\n",
        "    # Проверка секрета\n",
        "    try:\n",
        "        sheet_api_key = userdata.get('SHEET_API_KEY')\n",
        "        if sheet_api_key:\n",
        "            print(f\"{Fore.GREEN}✅ Секрет SHEET_API_KEY найден\")\n",
        "\n",
        "            # Проверка JSON\n",
        "            try:\n",
        "                credentials_info = json.loads(sheet_api_key)\n",
        "                print(f\"{Fore.GREEN}✅ JSON корректный\")\n",
        "\n",
        "                # Проверка полей\n",
        "                required_fields = ['type', 'project_id', 'private_key', 'client_email']\n",
        "                for field in required_fields:\n",
        "                    if field in credentials_info:\n",
        "                        if field == 'client_email':\n",
        "                            print(f\"{Fore.GREEN}✅ {field}: {credentials_info[field]}\")\n",
        "                        else:\n",
        "                            print(f\"{Fore.GREEN}✅ {field}: присутствует\")\n",
        "                    else:\n",
        "                        print(f\"{Fore.RED}❌ {field}: отсутствует\")\n",
        "\n",
        "            except json.JSONDecodeError as e:\n",
        "                print(f\"{Fore.RED}❌ Ошибка JSON: {e}\")\n",
        "\n",
        "        else:\n",
        "            print(f\"{Fore.RED}❌ Секрет SHEET_API_KEY не найден\")\n",
        "\n",
        "    except Exception as e:\n",
        "        print(f\"{Fore.RED}❌ Ошибка доступа к секретам: {e}\")\n",
        "\n",
        "    print(f\"{Fore.CYAN}{'═' * 50}\")"
      ],
      "metadata": {
        "id": "nVTgQGM7yWB2"
      },
      "execution_count": null,
      "outputs": []
    },
    {
      "cell_type": "code",
      "source": [
        "# Инициализация colorama и Google Sheets\n",
        "init(autoreset=True)\n",
        "\n",
        "# Запускаем диагностику перед основной логикой\n",
        "diagnose_sheets_setup()\n",
        "\n",
        "sheets_client = setup_google_sheets()\n",
        "\n",
        "if sheets_client:\n",
        "    print(f\"{Fore.GREEN}✓ Подключение к Google Sheets успешно!\")\n",
        "else:\n",
        "    print(f\"{Fore.RED}✗ Не удалось подключиться к Google Sheets. Логирование будет отключено.\")"
      ],
      "metadata": {
        "colab": {
          "base_uri": "https://localhost:8080/"
        },
        "id": "vG5AJjs_v4d3",
        "outputId": "57cf9c0d-39b5-48fd-ab6c-208cd32bb96a"
      },
      "execution_count": null,
      "outputs": [
        {
          "output_type": "stream",
          "name": "stdout",
          "text": [
            "🔍 Диагностика настроек Google Sheets...\n",
            "══════════════════════════════════════════════════\n",
            "✅ Секрет SHEET_API_KEY найден\n",
            "✅ JSON корректный\n",
            "✅ type: присутствует\n",
            "✅ project_id: присутствует\n",
            "✅ private_key: присутствует\n",
            "✅ client_email: sk-210@affable-elf-453008-v9.iam.gserviceaccount.com\n",
            "══════════════════════════════════════════════════\n",
            "🔑 Service Account Email: sk-210@affable-elf-453008-v9.iam.gserviceaccount.com\n",
            "✅ Успешное подключение к таблице: google_logs\n",
            "✓ Подключение к Google Sheets успешно!\n"
          ]
        }
      ]
    },
    {
      "cell_type": "code",
      "source": [
        "# Генерируем уникальный ID пользователя для сессии\n",
        "session_user_id = str(uuid.uuid4())[:8]\n",
        "print(f\"{Fore.CYAN}Ваш ID сессии: {session_user_id}\")"
      ],
      "metadata": {
        "colab": {
          "base_uri": "https://localhost:8080/"
        },
        "id": "ELZC-80Lv-Xo",
        "outputId": "6d8ce0fa-6c2e-4def-b892-c6e5c9270b91"
      },
      "execution_count": null,
      "outputs": [
        {
          "output_type": "stream",
          "name": "stdout",
          "text": [
            "Ваш ID сессии: f29bcc6a\n"
          ]
        }
      ]
    },
    {
      "cell_type": "code",
      "source": [
        "# Цикл для ввода вопросов пользователем\n",
        "print(f\"{Fore.CYAN}{'═' * 80}\")\n",
        "print(f\"{Fore.CYAN}║ Привет, начальник! Я ИИ агент по СТРОИТЕЛЬНОМУ КОНТРОЛЮ. ║\")\n",
        "print(f\"{Fore.CYAN}║ Введи нарушение и я сделаю предписание по устранению     ║\")\n",
        "print(f\"{Fore.CYAN}{'═' * 80}\")\n",
        "\n",
        "while True:\n",
        "    print(f\"{Fore.YELLOW}📝 Введите НАРУШЕНИЕ в поле ниже (или слово 'СТОП' для завершения):\")\n",
        "    topic = input(\"> \")\n",
        "\n",
        "    if topic.strip().upper() == \"СТОП\":\n",
        "        print(f\"{Fore.CYAN}{'═' * 50}\")\n",
        "        print(f\"{Fore.CYAN}║ Спасибо за использование Нейро-консультанта! ║\")\n",
        "        print(f\"{Fore.CYAN}{'═' * 50}\")\n",
        "        break\n",
        "\n",
        "    print(f\"{Fore.GREEN}{'═' * 50}\")\n",
        "    print(f\"{Fore.GREEN}❓ Инспектор: {topic}\")\n",
        "    print(f\"{Fore.GREEN}{'═' * 50}\")\n",
        "\n",
        "    # Вызываем функцию с логированием\n",
        "    ans = answer_index(system, topic, db, sheets_client, session_user_id)\n",
        "\n",
        "    print(f\"{Fore.BLUE}{'═' * 50}\")\n",
        "    print(f\"{Fore.BLUE}✅ Ответ Нейро-консультанта:\")\n",
        "    print(f\"{Fore.BLUE}║ {ans}\")\n",
        "    print(f\"{Fore.BLUE}{'═' * 50}\\n\")"
      ],
      "metadata": {
        "colab": {
          "base_uri": "https://localhost:8080/"
        },
        "id": "OrLqsYjuwD44",
        "outputId": "90dd6377-82ac-44d9-945f-6c62ce47f095"
      },
      "execution_count": null,
      "outputs": [
        {
          "output_type": "stream",
          "name": "stdout",
          "text": [
            "════════════════════════════════════════════════════════════════════════════════\n",
            "║ Привет, начальник! Я ИИ агент по СТРОИТЕЛЬНОМУ КОНТРОЛЮ. ║\n",
            "║ Введи нарушение и я сделаю предписание по устранению     ║\n",
            "════════════════════════════════════════════════════════════════════════════════\n",
            "📝 Введите НАРУШЕНИЕ в поле ниже (или слово 'СТОП' для завершения):\n",
            "> Трубы положили в канаву, но не зарыли землей\n",
            "══════════════════════════════════════════════════\n",
            "❓ Инспектор: Трубы положили в канаву, но не зарыли землей\n",
            "══════════════════════════════════════════════════\n",
            "✓ Лог успешно записан в Google Sheets\n",
            "══════════════════════════════════════════════════\n",
            "✅ Ответ Нейро-консультанта:\n",
            "║ > \"Трубы положили в канаву, но не зарыли землей.\"  \n",
            "\n",
            "**Не обеспечено выполнение засыпки трубопроводов в соответствии с требованиями НД.**  \n",
            "\n",
            "- **Нарушение:** Отсутствие засыпки трубопроводов в траншее.  \n",
            "- **Норма:**  \n",
            "  - Отрывок документа №3, п. 8: \"Засыпка траншей на береговых участках после укладки в них трубопроводов должна выполняться экскаватором и бульдозером местным грунтом из отвалов.\"  \n",
            "\n",
            "**РЕКОМЕНДАЦИИ:**  \n",
            "> Выполнить засыпку трубопроводов в течение 3 рабочих дней.\n",
            "══════════════════════════════════════════════════\n",
            "\n",
            "📝 Введите НАРУШЕНИЕ в поле ниже (или слово 'СТОП' для завершения):\n"
          ]
        }
      ]
    },
    {
      "cell_type": "markdown",
      "metadata": {
        "id": "2xmIbMcDATUu"
      },
      "source": [
        "Проверьте работу нейро-консультанта на сформулированных вами вопросах (достаточно 1-2)"
      ]
    }
  ],
  "metadata": {
    "colab": {
      "provenance": [],
      "include_colab_link": true
    },
    "kernelspec": {
      "display_name": "Python 3",
      "name": "python3"
    },
    "language_info": {
      "codemirror_mode": {
        "name": "ipython",
        "version": 3
      },
      "file_extension": ".py",
      "mimetype": "text/x-python",
      "name": "python",
      "nbconvert_exporter": "python",
      "pygments_lexer": "ipython3",
      "version": "3.12.7"
    }
  },
  "nbformat": 4,
  "nbformat_minor": 0
}